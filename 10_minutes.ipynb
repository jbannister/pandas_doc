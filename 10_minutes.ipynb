{
 "cells": [
  {
   "cell_type": "code",
   "execution_count": 1,
   "id": "881c70f3-66cf-45ed-bb4d-c454ce2cd982",
   "metadata": {},
   "outputs": [],
   "source": [
    "import numpy as np\n",
    "import pandas as pd"
   ]
  },
  {
   "cell_type": "markdown",
   "id": "bbffc333-b6ef-422c-8eab-7d9fb5ad5d96",
   "metadata": {},
   "source": [
    "# Basic data structures in pandas\n",
    " - Pandas provides two types of classes for handling data:\n",
    "\n",
    "## [Series](Series.ipynb): \n",
    " - a one-dimensional labeled array holding data of any type such as integers, strings, Python objects etc.\n",
    "\n",
    "## [DataFrame](DataFrame.ipynb): \n",
    " - a two-dimensional data structure that holds data like a two-dimension array or a table with rows and columns.\n",
    "\n"
   ]
  },
  {
   "cell_type": "markdown",
   "id": "6bc3798d-81dd-4736-bfa5-f3482d1eed4b",
   "metadata": {},
   "source": [
    "# Object creation\n",
    " - See the Intro to data structures section.\n",
    "\n",
    " - Creating a Series by passing a list of values, letting pandas create a default RangeIndex."
   ]
  },
  {
   "cell_type": "code",
   "execution_count": 3,
   "id": "e4be288e-9dfe-4e13-908e-299e5d0a1a4e",
   "metadata": {},
   "outputs": [
    {
     "data": {
      "text/plain": [
       "0    1.0\n",
       "1    3.0\n",
       "2    5.0\n",
       "3    NaN\n",
       "4    6.0\n",
       "5    8.0\n",
       "dtype: float64"
      ]
     },
     "execution_count": 3,
     "metadata": {},
     "output_type": "execute_result"
    }
   ],
   "source": [
    "s = pd.Series([1, 3, 5, np.nan, 6, 8])\n",
    "s"
   ]
  },
  {
   "cell_type": "markdown",
   "id": "46825d66-201d-47c4-9dc1-38aa0aeca5aa",
   "metadata": {},
   "source": [
    "Creating a DataFrame by passing a NumPy array with a datetime index using date_range() and labeled columns:"
   ]
  },
  {
   "cell_type": "code",
   "execution_count": 6,
   "id": "97dfd604-70c3-4690-b0e9-b8d61a9a7b4d",
   "metadata": {},
   "outputs": [
    {
     "data": {
      "text/html": [
       "<div>\n",
       "<style scoped>\n",
       "    .dataframe tbody tr th:only-of-type {\n",
       "        vertical-align: middle;\n",
       "    }\n",
       "\n",
       "    .dataframe tbody tr th {\n",
       "        vertical-align: top;\n",
       "    }\n",
       "\n",
       "    .dataframe thead th {\n",
       "        text-align: right;\n",
       "    }\n",
       "</style>\n",
       "<table border=\"1\" class=\"dataframe\">\n",
       "  <thead>\n",
       "    <tr style=\"text-align: right;\">\n",
       "      <th></th>\n",
       "      <th>A</th>\n",
       "      <th>B</th>\n",
       "      <th>C</th>\n",
       "      <th>D</th>\n",
       "    </tr>\n",
       "  </thead>\n",
       "  <tbody>\n",
       "    <tr>\n",
       "      <th>2013-01-01</th>\n",
       "      <td>1.227273</td>\n",
       "      <td>-1.069660</td>\n",
       "      <td>-0.646229</td>\n",
       "      <td>-0.254119</td>\n",
       "    </tr>\n",
       "    <tr>\n",
       "      <th>2013-01-02</th>\n",
       "      <td>-0.839183</td>\n",
       "      <td>-0.228532</td>\n",
       "      <td>-0.282527</td>\n",
       "      <td>-0.452368</td>\n",
       "    </tr>\n",
       "    <tr>\n",
       "      <th>2013-01-03</th>\n",
       "      <td>-1.136936</td>\n",
       "      <td>-0.744868</td>\n",
       "      <td>-1.418592</td>\n",
       "      <td>0.635152</td>\n",
       "    </tr>\n",
       "    <tr>\n",
       "      <th>2013-01-04</th>\n",
       "      <td>0.623485</td>\n",
       "      <td>0.679202</td>\n",
       "      <td>0.535280</td>\n",
       "      <td>0.008622</td>\n",
       "    </tr>\n",
       "    <tr>\n",
       "      <th>2013-01-05</th>\n",
       "      <td>-1.534913</td>\n",
       "      <td>-1.123404</td>\n",
       "      <td>0.005862</td>\n",
       "      <td>-1.017116</td>\n",
       "    </tr>\n",
       "    <tr>\n",
       "      <th>2013-01-06</th>\n",
       "      <td>1.019132</td>\n",
       "      <td>0.262986</td>\n",
       "      <td>-0.138497</td>\n",
       "      <td>0.084513</td>\n",
       "    </tr>\n",
       "  </tbody>\n",
       "</table>\n",
       "</div>"
      ],
      "text/plain": [
       "                   A         B         C         D\n",
       "2013-01-01  1.227273 -1.069660 -0.646229 -0.254119\n",
       "2013-01-02 -0.839183 -0.228532 -0.282527 -0.452368\n",
       "2013-01-03 -1.136936 -0.744868 -1.418592  0.635152\n",
       "2013-01-04  0.623485  0.679202  0.535280  0.008622\n",
       "2013-01-05 -1.534913 -1.123404  0.005862 -1.017116\n",
       "2013-01-06  1.019132  0.262986 -0.138497  0.084513"
      ]
     },
     "execution_count": 6,
     "metadata": {},
     "output_type": "execute_result"
    }
   ],
   "source": [
    "dates = pd.date_range(\"20130101\", periods=6)\n",
    "#dates\n",
    "df = pd.DataFrame(np.random.randn(6, 4), index=dates, columns=list(\"ABCD\"))\n",
    "df"
   ]
  },
  {
   "cell_type": "code",
   "execution_count": null,
   "id": "eccb0cc3-7a4f-488c-b0b9-d813de37645f",
   "metadata": {},
   "outputs": [],
   "source": []
  }
 ],
 "metadata": {
  "kernelspec": {
   "display_name": "Python 3 (ipykernel)",
   "language": "python",
   "name": "python3"
  },
  "language_info": {
   "codemirror_mode": {
    "name": "ipython",
    "version": 3
   },
   "file_extension": ".py",
   "mimetype": "text/x-python",
   "name": "python",
   "nbconvert_exporter": "python",
   "pygments_lexer": "ipython3",
   "version": "3.11.5"
  }
 },
 "nbformat": 4,
 "nbformat_minor": 5
}
