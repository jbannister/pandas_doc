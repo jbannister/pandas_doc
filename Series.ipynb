{
 "cells": [
  {
   "cell_type": "markdown",
   "id": "11a095ed-0e93-4d60-b053-68217fec1593",
   "metadata": {},
   "source": [
    "# [pandas.Series](https://pandas.pydata.org/docs/reference/api/pandas.Series.html#pandas.Series)"
   ]
  },
  {
   "cell_type": "code",
   "execution_count": null,
   "id": "cc5e7037-51ec-43e0-9584-e87414bcc83a",
   "metadata": {},
   "outputs": [],
   "source": []
  }
 ],
 "metadata": {
  "kernelspec": {
   "display_name": "Python 3 (ipykernel)",
   "language": "python",
   "name": "python3"
  },
  "language_info": {
   "codemirror_mode": {
    "name": "ipython",
    "version": 3
   },
   "file_extension": ".py",
   "mimetype": "text/x-python",
   "name": "python",
   "nbconvert_exporter": "python",
   "pygments_lexer": "ipython3",
   "version": "3.11.5"
  }
 },
 "nbformat": 4,
 "nbformat_minor": 5
}
